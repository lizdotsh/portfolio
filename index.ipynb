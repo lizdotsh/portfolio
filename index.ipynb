{
  "cells": [
    {
      "cell_type": "raw",
      "metadata": {},
      "source": [
        "---\n",
        "title: \"A portfolio of sorts\"\n",
        "subtitle: \"Just a quick index/reference of stuff I've done\"\n",
        "format: \n",
        "    html: \n",
        "        css: styles.css\n",
        "---"
      ],
      "id": "91734c87"
    },
    {
      "cell_type": "markdown",
      "metadata": {},
      "source": [
        "[Github](https://github.com/lizdotsh)\n",
        "[Email](mailto:work@lizgood.win)\n",
        "\n",
        "\n",
        "\n",
        "## College\n",
        "\n",
        "### Senior Year \n",
        "\n",
        "\n",
        "```{html}\n",
        "<details>\n",
        "    <summary>Data Structures</summary>\n",
        "\n",
        "\n",
        "    [Github](https://github.com/lizdotsh/Data-Structures-Projects)\n",
        "\n",
        "    Projects from my data structures course. Details in the github, but direct links to the individual projects below:\n",
        "\n",
        "    <table class=\"data-struct-table\">\n",
        "    <tr>\n",
        "        <th >Project</th>\n",
        "        <th>Description</th>\n",
        "    </tr>\n",
        "    <tr>\n",
        "        <td> [P1 - Sorting Methods](https://github.com/lizdotsh/Data-Structures-Projects/tree/main/P1-Sorting-Methods) </td>\n",
        "        <td> This project compared sorting methods by using the .cover files generated in python. </td>\n",
        "    </tr>\n",
        "    <tr>\n",
        "        <td> [P2 - Double Linked List](https://github.com/lizdotsh/Data-Structures-Projects/tree/main/P1-Sorting-Methods) </td>\n",
        "        <td> Simple implimentation of a doubly linked list. </td>\n",
        "    </tr>\n",
        "    <tr>\n",
        "        <td> [P3 - Deque and Hanoi](https://github.com/lizdotsh/Data-Structures-Projects/tree/main/P3-Deque-and-Hanoi)</td>\n",
        "        <td> Basically is just an extension of double linked list, a deque implimentation, a towers of hanoi implimentationm, and a lot of tests.</td>\n",
        "    </tr>\n",
        "    <tr>\n",
        "        <td> [P4 - AVL Tree](https://github.com/lizdotsh/Data-Structures-Projects/tree/main/P4-AVL-Tree) </td>\n",
        "        <td> Implimentation of a self balancing AVL Tree, and testing to go with it </td>\n",
        "    </tr>\n",
        "    </table>\n",
        "```\n",
        "\n",
        "\n",
        "</details>\n",
        "### Junior Year\n",
        "\n",
        "### Sophmore Year\n",
        "\n",
        "### Freshman Year\n"
      ],
      "id": "a8a7995d"
    }
  ],
  "metadata": {
    "kernelspec": {
      "name": "python3",
      "language": "python",
      "display_name": "Python 3 (ipykernel)"
    }
  },
  "nbformat": 4,
  "nbformat_minor": 5
}